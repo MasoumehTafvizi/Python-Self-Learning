{
 "cells": [
  {
   "cell_type": "code",
   "execution_count": 1,
   "id": "7aa0c3a5",
   "metadata": {},
   "outputs": [],
   "source": [
    "fruit = \"apple\""
   ]
  },
  {
   "cell_type": "code",
   "execution_count": 4,
   "id": "a3957cd2",
   "metadata": {},
   "outputs": [
    {
     "name": "stdout",
     "output_type": "stream",
     "text": [
      "apple\n"
     ]
    }
   ],
   "source": [
    "print(fruit)"
   ]
  },
  {
   "cell_type": "code",
   "execution_count": 8,
   "id": "f03b2f49",
   "metadata": {},
   "outputs": [],
   "source": [
    "fruit = \"banana\""
   ]
  },
  {
   "cell_type": "code",
   "execution_count": 9,
   "id": "54831be0",
   "metadata": {},
   "outputs": [
    {
     "name": "stdout",
     "output_type": "stream",
     "text": [
      "banana\n"
     ]
    }
   ],
   "source": [
    "print(fruit)"
   ]
  },
  {
   "cell_type": "code",
   "execution_count": 10,
   "id": "4ff726e5",
   "metadata": {},
   "outputs": [],
   "source": [
    "MAX_SCORE = 100"
   ]
  },
  {
   "cell_type": "code",
   "execution_count": 11,
   "id": "988a653d",
   "metadata": {},
   "outputs": [
    {
     "name": "stdout",
     "output_type": "stream",
     "text": [
      "90\n"
     ]
    }
   ],
   "source": [
    "MAX_SCORE = 90\n",
    "print(MAX_SCORE)"
   ]
  },
  {
   "cell_type": "code",
   "execution_count": 13,
   "id": "d7b1e651",
   "metadata": {},
   "outputs": [
    {
     "data": {
      "text/plain": [
       "3.14"
      ]
     },
     "execution_count": 13,
     "metadata": {},
     "output_type": "execute_result"
    }
   ],
   "source": [
    "float(\"3.14\")"
   ]
  },
  {
   "cell_type": "code",
   "execution_count": 16,
   "id": "8036f722",
   "metadata": {},
   "outputs": [
    {
     "data": {
      "text/plain": [
       "3"
      ]
     },
     "execution_count": 16,
     "metadata": {},
     "output_type": "execute_result"
    }
   ],
   "source": [
    "int(float(\"3.98\"))"
   ]
  },
  {
   "cell_type": "code",
   "execution_count": 18,
   "id": "5d7cf886",
   "metadata": {},
   "outputs": [
    {
     "data": {
      "text/plain": [
       "False"
      ]
     },
     "execution_count": 18,
     "metadata": {},
     "output_type": "execute_result"
    }
   ],
   "source": [
    "not(5 > 3)"
   ]
  },
  {
   "cell_type": "code",
   "execution_count": 22,
   "id": "c03312a8",
   "metadata": {},
   "outputs": [
    {
     "name": "stdout",
     "output_type": "stream",
     "text": [
      "False\n"
     ]
    }
   ],
   "source": [
    "if ('c' in 'abs'): print(True) \n",
    "else: print(False)"
   ]
  },
  {
   "cell_type": "code",
   "execution_count": 1,
   "id": "7fa7947d",
   "metadata": {},
   "outputs": [],
   "source": [
    "text = \"MaSoUmEh TaFvIzI\""
   ]
  },
  {
   "cell_type": "code",
   "execution_count": 2,
   "id": "198ee0a1",
   "metadata": {},
   "outputs": [
    {
     "data": {
      "text/plain": [
       "'masoumeh tafvizi'"
      ]
     },
     "execution_count": 2,
     "metadata": {},
     "output_type": "execute_result"
    }
   ],
   "source": [
    "text.lower()"
   ]
  },
  {
   "cell_type": "code",
   "execution_count": 3,
   "id": "ed4dc192",
   "metadata": {},
   "outputs": [
    {
     "data": {
      "text/plain": [
       "'MASOUMEH TAFVIZI'"
      ]
     },
     "execution_count": 3,
     "metadata": {},
     "output_type": "execute_result"
    }
   ],
   "source": [
    "text.upper()"
   ]
  },
  {
   "cell_type": "code",
   "execution_count": 5,
   "id": "4cc666b5",
   "metadata": {},
   "outputs": [
    {
     "data": {
      "text/plain": [
       "'Masoumeh tafvizi'"
      ]
     },
     "execution_count": 5,
     "metadata": {},
     "output_type": "execute_result"
    }
   ],
   "source": [
    "text.capitalize()"
   ]
  },
  {
   "cell_type": "code",
   "execution_count": 12,
   "id": "57eb820c",
   "metadata": {},
   "outputs": [
    {
     "name": "stdout",
     "output_type": "stream",
     "text": [
      "\n"
     ]
    }
   ],
   "source": [
    "name = input(\"Enter your name: \")\n",
    "print(name)"
   ]
  },
  {
   "cell_type": "code",
   "execution_count": 2,
   "id": "729cd3e5",
   "metadata": {},
   "outputs": [
    {
     "data": {
      "text/plain": [
       "'Hello, Masoumeh  . How are you today ? Have a nice day!'"
      ]
     },
     "execution_count": 2,
     "metadata": {},
     "output_type": "execute_result"
    }
   ],
   "source": [
    "greeting = \"Hello, {name}  . How are you today ? {final_msg}\"\n",
    "greeting.format(name = \"Masoumeh\", final_msg = \"Have a nice day!\")"
   ]
  },
  {
   "cell_type": "code",
   "execution_count": 3,
   "id": "dd2c73f7",
   "metadata": {},
   "outputs": [
    {
     "name": "stdout",
     "output_type": "stream",
     "text": [
      "['red', 'green', 'acqua', 'yellow']\n"
     ]
    }
   ],
   "source": [
    "colors = [\"red\", \"green\", \"blue\", \"yellow\"]\n",
    "colors.remove(\"blue\")\n",
    "colors.insert(2, \"acqua\")\n",
    "print(colors)"
   ]
  },
  {
   "cell_type": "code",
   "execution_count": null,
   "id": "6293022b",
   "metadata": {},
   "outputs": [],
   "source": [
    "nums = [0, 1, 2, 3, 4, 5, 6, 7, 8, 9]\n",
    "print(nums[::2])\n"
   ]
  },
  {
   "cell_type": "code",
   "execution_count": null,
   "id": "43e3b50e",
   "metadata": {},
   "outputs": [],
   "source": [
    "city_presence = {'New York': True, 'Berlin': True, 'Tokyo': True, 'Sydney': True}"
   ]
  },
  {
   "cell_type": "code",
   "execution_count": null,
   "id": "6ee2ab48",
   "metadata": {},
   "outputs": [],
   "source": [
    "if 'London' in city_presence:\n",
    "    print(\"London is present\")\n",
    "if 'Tokyo' in city_presence:\n",
    "    print(\"Tokyo is present\")"
   ]
  },
  {
   "cell_type": "code",
   "execution_count": null,
   "id": "94262440",
   "metadata": {},
   "outputs": [],
   "source": [
    "student_score = {'Alice': 85, 'Bob': 92}\n",
    "student_score.setdefault('Bob', 0)\n",
    "student_score.setdefault('Charlie', 0)\n",
    "print(student_score)"
   ]
  },
  {
   "cell_type": "code",
   "execution_count": null,
   "id": "0d9fb30f",
   "metadata": {},
   "outputs": [],
   "source": [
    "prefrences = {'color': 'blue', 'food': 'pizza', 'drink': 'water'}\n",
    "prefrences.update({'drink': 'orange juice'})\n",
    "print(prefrences)"
   ]
  },
  {
   "cell_type": "code",
   "execution_count": null,
   "id": "540eadc1",
   "metadata": {},
   "outputs": [],
   "source": [
    "stock_A = {'apples' : 5, 'oranges': 7}\n",
    "stock_B = {'oranges': 12, 'bananas': 3}\n",
    "\n",
    "stock_A.update(stock_B)\n",
    "print(stock_A)"
   ]
  },
  {
   "cell_type": "code",
   "execution_count": null,
   "id": "df503a61",
   "metadata": {},
   "outputs": [],
   "source": [
    "account_info = {'user1': {'name': 'Alice', 'password': 'alice123'}, 'user2': {'name': 'Bob', 'password': 'bobsecure'}}\n",
    "print(account_info['user1']['password'])"
   ]
  },
  {
   "cell_type": "code",
   "execution_count": null,
   "id": "12d99a00",
   "metadata": {},
   "outputs": [],
   "source": [
    "new = list(range(0, 10))\n",
    "print(new)"
   ]
  },
  {
   "cell_type": "code",
   "execution_count": null,
   "id": "fd7c31f2",
   "metadata": {},
   "outputs": [],
   "source": [
    "l = list(range(0, 1000000))\n",
    "s = set(l)"
   ]
  },
  {
   "cell_type": "code",
   "execution_count": null,
   "id": "bdb14474",
   "metadata": {},
   "outputs": [],
   "source": [
    "%%timeit \n",
    "0 in l"
   ]
  },
  {
   "cell_type": "code",
   "execution_count": null,
   "id": "71c18801",
   "metadata": {},
   "outputs": [],
   "source": [
    "%%timeit\n",
    "-1 in l"
   ]
  },
  {
   "cell_type": "code",
   "execution_count": null,
   "id": "1c2096aa",
   "metadata": {},
   "outputs": [],
   "source": [
    "%%timeit\n",
    "0 in s"
   ]
  },
  {
   "cell_type": "code",
   "execution_count": null,
   "id": "a6286d8b",
   "metadata": {},
   "outputs": [],
   "source": [
    "%%timeit\n",
    "-1 in s"
   ]
  }
 ],
 "metadata": {
  "kernelspec": {
   "display_name": "base",
   "language": "python",
   "name": "python3"
  },
  "language_info": {
   "codemirror_mode": {
    "name": "ipython",
    "version": 3
   },
   "file_extension": ".py",
   "mimetype": "text/x-python",
   "name": "python",
   "nbconvert_exporter": "python",
   "pygments_lexer": "ipython3",
   "version": "3.13.5"
  }
 },
 "nbformat": 4,
 "nbformat_minor": 5
}

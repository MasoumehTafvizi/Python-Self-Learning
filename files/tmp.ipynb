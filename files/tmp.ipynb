{
 "cells": [
  {
   "cell_type": "code",
   "execution_count": 1,
   "id": "7aa0c3a5",
   "metadata": {},
   "outputs": [],
   "source": [
    "fruit = \"apple\""
   ]
  },
  {
   "cell_type": "code",
   "execution_count": 4,
   "id": "a3957cd2",
   "metadata": {},
   "outputs": [
    {
     "name": "stdout",
     "output_type": "stream",
     "text": [
      "apple\n"
     ]
    }
   ],
   "source": [
    "print(fruit)"
   ]
  },
  {
   "cell_type": "code",
   "execution_count": 8,
   "id": "f03b2f49",
   "metadata": {},
   "outputs": [],
   "source": [
    "fruit = \"banana\""
   ]
  },
  {
   "cell_type": "code",
   "execution_count": 9,
   "id": "54831be0",
   "metadata": {},
   "outputs": [
    {
     "name": "stdout",
     "output_type": "stream",
     "text": [
      "banana\n"
     ]
    }
   ],
   "source": [
    "print(fruit)"
   ]
  },
  {
   "cell_type": "code",
   "execution_count": 10,
   "id": "4ff726e5",
   "metadata": {},
   "outputs": [],
   "source": [
    "MAX_SCORE = 100"
   ]
  },
  {
   "cell_type": "code",
   "execution_count": 11,
   "id": "988a653d",
   "metadata": {},
   "outputs": [
    {
     "name": "stdout",
     "output_type": "stream",
     "text": [
      "90\n"
     ]
    }
   ],
   "source": [
    "MAX_SCORE = 90\n",
    "print(MAX_SCORE)"
   ]
  },
  {
   "cell_type": "code",
   "execution_count": 13,
   "id": "d7b1e651",
   "metadata": {},
   "outputs": [
    {
     "data": {
      "text/plain": [
       "3.14"
      ]
     },
     "execution_count": 13,
     "metadata": {},
     "output_type": "execute_result"
    }
   ],
   "source": [
    "float(\"3.14\")"
   ]
  },
  {
   "cell_type": "code",
   "execution_count": 16,
   "id": "8036f722",
   "metadata": {},
   "outputs": [
    {
     "data": {
      "text/plain": [
       "3"
      ]
     },
     "execution_count": 16,
     "metadata": {},
     "output_type": "execute_result"
    }
   ],
   "source": [
    "int(float(\"3.98\"))"
   ]
  },
  {
   "cell_type": "code",
   "execution_count": 18,
   "id": "5d7cf886",
   "metadata": {},
   "outputs": [
    {
     "data": {
      "text/plain": [
       "False"
      ]
     },
     "execution_count": 18,
     "metadata": {},
     "output_type": "execute_result"
    }
   ],
   "source": [
    "not(5 > 3)"
   ]
  },
  {
   "cell_type": "code",
   "execution_count": 22,
   "id": "c03312a8",
   "metadata": {},
   "outputs": [
    {
     "name": "stdout",
     "output_type": "stream",
     "text": [
      "False\n"
     ]
    }
   ],
   "source": [
    "if ('c' in 'abs'): print(True) \n",
    "else: print(False)"
   ]
  },
  {
   "cell_type": "code",
   "execution_count": 1,
   "id": "7fa7947d",
   "metadata": {},
   "outputs": [],
   "source": [
    "text = \"MaSoUmEh TaFvIzI\""
   ]
  },
  {
   "cell_type": "code",
   "execution_count": 2,
   "id": "198ee0a1",
   "metadata": {},
   "outputs": [
    {
     "data": {
      "text/plain": [
       "'masoumeh tafvizi'"
      ]
     },
     "execution_count": 2,
     "metadata": {},
     "output_type": "execute_result"
    }
   ],
   "source": [
    "text.lower()"
   ]
  },
  {
   "cell_type": "code",
   "execution_count": 3,
   "id": "ed4dc192",
   "metadata": {},
   "outputs": [
    {
     "data": {
      "text/plain": [
       "'MASOUMEH TAFVIZI'"
      ]
     },
     "execution_count": 3,
     "metadata": {},
     "output_type": "execute_result"
    }
   ],
   "source": [
    "text.upper()"
   ]
  },
  {
   "cell_type": "code",
   "execution_count": 5,
   "id": "4cc666b5",
   "metadata": {},
   "outputs": [
    {
     "data": {
      "text/plain": [
       "'Masoumeh tafvizi'"
      ]
     },
     "execution_count": 5,
     "metadata": {},
     "output_type": "execute_result"
    }
   ],
   "source": [
    "text.capitalize()"
   ]
  },
  {
   "cell_type": "code",
   "execution_count": 5,
   "id": "57eb820c",
   "metadata": {},
   "outputs": [
    {
     "name": "stdout",
     "output_type": "stream",
     "text": [
      "Masumeh\n"
     ]
    }
   ],
   "source": [
    "name = input(\"Enter your name: \")\n",
    "print(name)"
   ]
  },
  {
   "cell_type": "code",
   "execution_count": 6,
   "id": "729cd3e5",
   "metadata": {},
   "outputs": [
    {
     "data": {
      "text/plain": [
       "'Hello, Masoumeh  . How are you today ? Have a nice day!'"
      ]
     },
     "execution_count": 6,
     "metadata": {},
     "output_type": "execute_result"
    }
   ],
   "source": [
    "greeting = \"Hello, {name}  . How are you today ? {final_msg}\"\n",
    "greeting.format(name = \"Masoumeh\", final_msg = \"Have a nice day!\")"
   ]
  },
  {
   "cell_type": "code",
   "execution_count": 3,
   "id": "dd2c73f7",
   "metadata": {},
   "outputs": [
    {
     "name": "stdout",
     "output_type": "stream",
     "text": [
      "['red', 'green', 'acqua', 'yellow']\n"
     ]
    }
   ],
   "source": [
    "colors = [\"red\", \"green\", \"blue\", \"yellow\"]\n",
    "colors.remove(\"blue\")\n",
    "colors.insert(2, \"acqua\")\n",
    "print(colors)"
   ]
  },
  {
   "cell_type": "code",
   "execution_count": 7,
   "id": "6293022b",
   "metadata": {},
   "outputs": [
    {
     "name": "stdout",
     "output_type": "stream",
     "text": [
      "[0, 2, 4, 6, 8]\n"
     ]
    }
   ],
   "source": [
    "nums = [0, 1, 2, 3, 4, 5, 6, 7, 8, 9]\n",
    "print(nums[::2])\n"
   ]
  },
  {
   "cell_type": "code",
   "execution_count": 8,
   "id": "43e3b50e",
   "metadata": {},
   "outputs": [],
   "source": [
    "city_presence = {'New York': True, 'Berlin': True, 'Tokyo': True, 'Sydney': True}"
   ]
  },
  {
   "cell_type": "code",
   "execution_count": 9,
   "id": "6ee2ab48",
   "metadata": {},
   "outputs": [
    {
     "name": "stdout",
     "output_type": "stream",
     "text": [
      "Tokyo is present\n"
     ]
    }
   ],
   "source": [
    "if 'London' in city_presence:\n",
    "    print(\"London is present\")\n",
    "if 'Tokyo' in city_presence:\n",
    "    print(\"Tokyo is present\")"
   ]
  },
  {
   "cell_type": "code",
   "execution_count": 10,
   "id": "94262440",
   "metadata": {},
   "outputs": [
    {
     "name": "stdout",
     "output_type": "stream",
     "text": [
      "{'Alice': 85, 'Bob': 92, 'Charlie': 0}\n"
     ]
    }
   ],
   "source": [
    "student_score = {'Alice': 85, 'Bob': 92}\n",
    "student_score.setdefault('Bob', 0)\n",
    "student_score.setdefault('Charlie', 0)\n",
    "print(student_score)"
   ]
  },
  {
   "cell_type": "code",
   "execution_count": 11,
   "id": "0d9fb30f",
   "metadata": {},
   "outputs": [
    {
     "name": "stdout",
     "output_type": "stream",
     "text": [
      "{'color': 'blue', 'food': 'pizza', 'drink': 'orange juice'}\n"
     ]
    }
   ],
   "source": [
    "prefrences = {'color': 'blue', 'food': 'pizza', 'drink': 'water'}\n",
    "prefrences.update({'drink': 'orange juice'})\n",
    "print(prefrences)"
   ]
  },
  {
   "cell_type": "code",
   "execution_count": 12,
   "id": "540eadc1",
   "metadata": {},
   "outputs": [
    {
     "name": "stdout",
     "output_type": "stream",
     "text": [
      "{'apples': 5, 'oranges': 12, 'bananas': 3}\n"
     ]
    }
   ],
   "source": [
    "stock_A = {'apples' : 5, 'oranges': 7}\n",
    "stock_B = {'oranges': 12, 'bananas': 3}\n",
    "\n",
    "stock_A.update(stock_B)\n",
    "print(stock_A)"
   ]
  },
  {
   "cell_type": "code",
   "execution_count": 13,
   "id": "df503a61",
   "metadata": {},
   "outputs": [
    {
     "name": "stdout",
     "output_type": "stream",
     "text": [
      "alice123\n"
     ]
    }
   ],
   "source": [
    "account_info = {'user1': {'name': 'Alice', 'password': 'alice123'}, 'user2': {'name': 'Bob', 'password': 'bobsecure'}}\n",
    "print(account_info['user1']['password'])"
   ]
  },
  {
   "cell_type": "code",
   "execution_count": 14,
   "id": "12d99a00",
   "metadata": {},
   "outputs": [
    {
     "name": "stdout",
     "output_type": "stream",
     "text": [
      "[0, 1, 2, 3, 4, 5, 6, 7, 8, 9]\n"
     ]
    }
   ],
   "source": [
    "new = list(range(0, 10))\n",
    "print(new)"
   ]
  },
  {
   "cell_type": "code",
   "execution_count": 23,
   "id": "fd7c31f2",
   "metadata": {},
   "outputs": [],
   "source": [
    "l = list(range(0, 1000000))\n",
    "s = set(l)"
   ]
  },
  {
   "cell_type": "code",
   "execution_count": 18,
   "id": "bdb14474",
   "metadata": {},
   "outputs": [
    {
     "name": "stdout",
     "output_type": "stream",
     "text": [
      "10.9 ns ± 0.447 ns per loop (mean ± std. dev. of 7 runs, 100,000,000 loops each)\n"
     ]
    }
   ],
   "source": [
    "%%timeit \n",
    "0 in l"
   ]
  },
  {
   "cell_type": "code",
   "execution_count": 19,
   "id": "71c18801",
   "metadata": {},
   "outputs": [
    {
     "name": "stdout",
     "output_type": "stream",
     "text": [
      "4.93 ms ± 201 μs per loop (mean ± std. dev. of 7 runs, 100 loops each)\n"
     ]
    }
   ],
   "source": [
    "%%timeit\n",
    "-1 in l"
   ]
  },
  {
   "cell_type": "code",
   "execution_count": 22,
   "id": "1c2096aa",
   "metadata": {},
   "outputs": [
    {
     "name": "stdout",
     "output_type": "stream",
     "text": [
      "10 ns ± 0.138 ns per loop (mean ± std. dev. of 7 runs, 100,000,000 loops each)\n"
     ]
    }
   ],
   "source": [
    "%%timeit\n",
    "0 in s"
   ]
  },
  {
   "cell_type": "code",
   "execution_count": 21,
   "id": "a6286d8b",
   "metadata": {},
   "outputs": [
    {
     "name": "stdout",
     "output_type": "stream",
     "text": [
      "9.91 ns ± 0.172 ns per loop (mean ± std. dev. of 7 runs, 100,000,000 loops each)\n"
     ]
    }
   ],
   "source": [
    "%%timeit\n",
    "-1 in s"
   ]
  },
  {
   "cell_type": "code",
   "execution_count": 4,
   "id": "a625ef85",
   "metadata": {},
   "outputs": [
    {
     "name": "stdout",
     "output_type": "stream",
     "text": [
      "{'blue', 'yellow', 'red', 'green'}\n"
     ]
    },
    {
     "data": {
      "text/plain": [
       "False"
      ]
     },
     "execution_count": 4,
     "metadata": {},
     "output_type": "execute_result"
    }
   ],
   "source": [
    "colors = {'red', 'green', 'blue', 'yellow'}\n",
    "print(colors)\n",
    "'purple' in colors"
   ]
  },
  {
   "cell_type": "code",
   "execution_count": 24,
   "id": "6b65f34e",
   "metadata": {},
   "outputs": [
    {
     "name": "stdout",
     "output_type": "stream",
     "text": [
      "{'yellow', 'red', 'blue', 'green', 'purple'}\n"
     ]
    },
    {
     "data": {
      "text/plain": [
       "True"
      ]
     },
     "execution_count": 24,
     "metadata": {},
     "output_type": "execute_result"
    }
   ],
   "source": [
    "colors.add('purple')\n",
    "print(colors)\n",
    "'purple' in colors"
   ]
  },
  {
   "cell_type": "code",
   "execution_count": 25,
   "id": "238ab197",
   "metadata": {},
   "outputs": [
    {
     "name": "stdout",
     "output_type": "stream",
     "text": [
      "6\n"
     ]
    }
   ],
   "source": [
    "numbers_list = [1, 2, 3, 4, 3,2,1, 5,6,5,4]\n",
    "unique_numbers = set(numbers_list)\n",
    "print(len(unique_numbers))"
   ]
  },
  {
   "cell_type": "code",
   "execution_count": 26,
   "id": "b42b2122",
   "metadata": {},
   "outputs": [
    {
     "name": "stdout",
     "output_type": "stream",
     "text": [
      "{'mint', 'bubblegum', 'strawberry', 'chocolate', 'vanilla'}\n"
     ]
    }
   ],
   "source": [
    "flavors = {'vanilla', 'chocolate', 'strawberry'}\n",
    "flavors.update({'mint', 'bubblegum'})\n",
    "print(flavors)"
   ]
  },
  {
   "cell_type": "code",
   "execution_count": 27,
   "id": "176c976e",
   "metadata": {},
   "outputs": [
    {
     "name": "stdout",
     "output_type": "stream",
     "text": [
      "{'screwdriver', 'hammer', 'wrench', 'pliers'}\n",
      "{'screwdriver', 'hammer', 'pliers'}\n",
      "{'screwdriver', 'hammer', 'pliers'}\n"
     ]
    }
   ],
   "source": [
    "tools = {'hammer', 'screwdriver', 'wrench', 'pliers'}\n",
    "print(tools)\n",
    "tools.remove('wrench')\n",
    "print(tools)\n",
    "tools.discard('wrench')\n",
    "print(tools)"
   ]
  },
  {
   "cell_type": "code",
   "execution_count": 28,
   "id": "b0829d5c",
   "metadata": {},
   "outputs": [
    {
     "name": "stdout",
     "output_type": "stream",
     "text": [
      "set()\n"
     ]
    }
   ],
   "source": [
    "planets = {'Jupiter', 'Earth', 'Mars'}\n",
    "planets.clear()\n",
    "print(planets)"
   ]
  },
  {
   "cell_type": "code",
   "execution_count": 29,
   "id": "a66eadd0",
   "metadata": {},
   "outputs": [],
   "source": [
    "set_x = {10, 20, 30, 40, 50}\n",
    "set_y = {30, 40, 50, 60, 70}\n",
    "set_z = {5, 15, 25, 35}"
   ]
  },
  {
   "cell_type": "code",
   "execution_count": 30,
   "id": "1a258513",
   "metadata": {},
   "outputs": [
    {
     "name": "stdout",
     "output_type": "stream",
     "text": [
      "{70, 40, 10, 50, 20, 60, 30}\n",
      "{70, 40, 10, 50, 20, 60, 30}\n"
     ]
    }
   ],
   "source": [
    "print(set_x.union(set_y))\n",
    "print(set_x | set_y)"
   ]
  },
  {
   "cell_type": "code",
   "execution_count": 31,
   "id": "f8e786c2",
   "metadata": {},
   "outputs": [
    {
     "data": {
      "text/plain": [
       "set()"
      ]
     },
     "execution_count": 31,
     "metadata": {},
     "output_type": "execute_result"
    }
   ],
   "source": [
    "set_x.intersection(set_y, set_z)"
   ]
  },
  {
   "cell_type": "code",
   "execution_count": 32,
   "id": "ec048468",
   "metadata": {},
   "outputs": [
    {
     "name": "stdout",
     "output_type": "stream",
     "text": [
      "{35, 5, 70, 40, 15, 50, 25, 60, 30}\n",
      "{35, 5, 70, 40, 15, 50, 25, 60, 30}\n"
     ]
    }
   ],
   "source": [
    "print(set_y.symmetric_difference(set_z))\n",
    "\n",
    "print(set_y ^ set_z)"
   ]
  },
  {
   "cell_type": "code",
   "execution_count": 33,
   "id": "74df7b33",
   "metadata": {},
   "outputs": [
    {
     "name": "stdout",
     "output_type": "stream",
     "text": [
      "{35, 5, 70, 40, 10, 15, 50, 20, 25, 60, 30}\n"
     ]
    }
   ],
   "source": [
    "A =  set_x.union(set_y).union(set_z)\n",
    "print(A)"
   ]
  },
  {
   "cell_type": "code",
   "execution_count": 34,
   "id": "a52695e3",
   "metadata": {},
   "outputs": [
    {
     "name": "stdout",
     "output_type": "stream",
     "text": [
      "frozenset({'read', 'execute', 'write'})\n"
     ]
    },
    {
     "data": {
      "text/plain": [
       "False"
      ]
     },
     "execution_count": 34,
     "metadata": {},
     "output_type": "execute_result"
    }
   ],
   "source": [
    "permissions = frozenset(['read', 'write', 'execute'])\n",
    "print(permissions)\n",
    "\"delete\" in permissions\n"
   ]
  },
  {
   "cell_type": "code",
   "execution_count": 35,
   "id": "4c80a437",
   "metadata": {},
   "outputs": [
    {
     "name": "stdout",
     "output_type": "stream",
     "text": [
      "frozenset({1, 2, 3, 4})\n",
      "frozenset({2, 3})\n",
      "frozenset({1})\n"
     ]
    }
   ],
   "source": [
    "A = frozenset([1, 2, 3])\n",
    "B = frozenset([2, 3, 4])\n",
    "print(A | B)\n",
    "print(A & B)\n",
    "print(A - B)"
   ]
  },
  {
   "cell_type": "code",
   "execution_count": 36,
   "id": "29faa560",
   "metadata": {},
   "outputs": [],
   "source": [
    "graph = {\n",
    "    frozenset((1,2)) : 10,\n",
    "    frozenset((1,3)) : 15,\n",
    "    frozenset((2,3)) : 7\n",
    "    }"
   ]
  },
  {
   "cell_type": "code",
   "execution_count": 37,
   "id": "baf24ac8",
   "metadata": {},
   "outputs": [
    {
     "name": "stdout",
     "output_type": "stream",
     "text": [
      "['apple', 'banana', 'apple', 'cherry']\n",
      "frozenset({'banana', 'apple', 'cherry'})\n",
      "['banana', 'apple', 'cherry']\n"
     ]
    }
   ],
   "source": [
    "fruits = [\"apple\", \"banana\", \"apple\", \"cherry\"]\n",
    "print(fruits)\n",
    "unique_fruits = frozenset(fruits)\n",
    "print(unique_fruits)\n",
    "new_friuts = list(unique_fruits)\n",
    "print(new_friuts)"
   ]
  },
  {
   "cell_type": "code",
   "execution_count": 38,
   "id": "31079ee3",
   "metadata": {},
   "outputs": [
    {
     "name": "stdout",
     "output_type": "stream",
     "text": [
      "student_info: ('Alice', 17, 'A', 'Mathematics')\n"
     ]
    }
   ],
   "source": [
    "name = \"Alice\"\n",
    "age = 17\n",
    "grade = \"A\"\n",
    "subject = \"Mathematics\"\n",
    "student_info = (name, age, grade, subject)\n",
    "print(f\"student_info: {student_info}\")\n"
   ]
  },
  {
   "cell_type": "code",
   "execution_count": 39,
   "id": "87061926",
   "metadata": {},
   "outputs": [
    {
     "name": "stdout",
     "output_type": "stream",
     "text": [
      "x: 4, y: 5, z: 6\n"
     ]
    }
   ],
   "source": [
    "coordinates = (4, 5, 6)\n",
    "x, y, z = coordinates\n",
    "print(f\"x: {x}, y: {y}, z: {z}\")"
   ]
  },
  {
   "cell_type": "code",
   "execution_count": 40,
   "id": "88c7e5ca",
   "metadata": {},
   "outputs": [
    {
     "name": "stdout",
     "output_type": "stream",
     "text": [
      "Math: 72, Science: 85, English: 90\n"
     ]
    }
   ],
   "source": [
    "score = [72, 85, 90]\n",
    "math_score, science_score, english_score = score\n",
    "print(f\"Math: {math_score}, Science: {science_score}, English: {english_score}\")"
   ]
  },
  {
   "cell_type": "code",
   "execution_count": 41,
   "id": "6f2fab1f",
   "metadata": {},
   "outputs": [
    {
     "name": "stdout",
     "output_type": "stream",
     "text": [
      "Name: John Doe, Age: 20, Email: john.doe@example.com\n"
     ]
    }
   ],
   "source": [
    "student = {\n",
    "    'name': 'John Doe',\n",
    "    'age': 20,\n",
    "    'email': 'john.doe@example.com'\n",
    "}\n",
    "student_name, student_age, student_email = student.values()\n",
    "print(f\"Name: {student_name}, Age: {student_age}, Email: {student_email}\")"
   ]
  },
  {
   "cell_type": "code",
   "execution_count": 42,
   "id": "be5577a5",
   "metadata": {},
   "outputs": [
    {
     "name": "stdout",
     "output_type": "stream",
     "text": [
      "1 2 [3, 4, 5, 6, 7, 8]\n"
     ]
    }
   ],
   "source": [
    "l = [1, 2, 3, 4, 5, 6, 7, 8]\n",
    "first_num , second_num, *remaining_numbers = l\n",
    "print(first_num, second_num, remaining_numbers)"
   ]
  },
  {
   "cell_type": "code",
   "execution_count": 43,
   "id": "375654c4",
   "metadata": {},
   "outputs": [
    {
     "name": "stdout",
     "output_type": "stream",
     "text": [
      "2 1\n"
     ]
    }
   ],
   "source": [
    "a = 1\n",
    "b = 2\n",
    "a, b = b, a\n",
    "print(a, b)"
   ]
  },
  {
   "cell_type": "code",
   "execution_count": 44,
   "id": "b44dab9a",
   "metadata": {},
   "outputs": [
    {
     "name": "stdout",
     "output_type": "stream",
     "text": [
      "Adult ticket price: 10$\n"
     ]
    }
   ],
   "source": [
    "age = int(input(\"Enter your age: \"))\n",
    "price = 10\n",
    "if age < 14:\n",
    "    price = int(price * 0.5)\n",
    "    print(f\"Child ticket price: {price}$\")\n",
    "elif age >= 65:\n",
    "    price = int(price * 0.70)\n",
    "    print(f\"Senior ticket price: {price}$\")\n",
    "else:\n",
    "    print(f\"Adult ticket price: {price}$\")\n"
   ]
  },
  {
   "cell_type": "code",
   "execution_count": 45,
   "id": "e721bc67",
   "metadata": {},
   "outputs": [
    {
     "name": "stdout",
     "output_type": "stream",
     "text": [
      "Average temperature for the week is: 22.0°C\n"
     ]
    }
   ],
   "source": [
    "temperatures = {\n",
    "    \"Monday\": 22,\n",
    "    \"Tuesday\": 24,\n",
    "    \"Wednesday\": 19,\n",
    "    \"Thursday\": 21,\n",
    "    \"Friday\": 23,\n",
    "    \"Saturday\": 25,\n",
    "    \"Sunday\": 20\n",
    "}\n",
    "total_temp = 0\n",
    "for temp in list(temperatures.values()):\n",
    "    total_temp += temp\n",
    "print(f\"Average temperature for the week is: {(total_temp / len(temperatures)):.1f}°C\")\n"
   ]
  },
  {
   "cell_type": "code",
   "execution_count": 46,
   "id": "58295a6a",
   "metadata": {},
   "outputs": [
    {
     "name": "stdout",
     "output_type": "stream",
     "text": [
      "Max temperature: 25°C\n",
      "Min temperature: 19°C\n"
     ]
    }
   ],
   "source": [
    "temperatures = {\n",
    "    \"Monday\": 22,\n",
    "    \"Tuesday\": 24,\n",
    "    \"Wednesday\": 19,\n",
    "    \"Thursday\": 21,\n",
    "    \"Friday\": 23,\n",
    "    \"Saturday\": 25,\n",
    "    \"Sunday\": 20\n",
    "}\n",
    "temps = list(temperatures.values());\n",
    "max_temp = temps[0]\n",
    "min_temp = temps[0]\n",
    "for temp in temps:\n",
    "    if temp > max_temp:\n",
    "        max_temp = temp\n",
    "    if temp < min_temp:\n",
    "        min_temp = temp\n",
    "print(f\"Max temperature: {max_temp}°C\")\n",
    "print(f\"Min temperature: {min_temp}°C\")\n"
   ]
  },
  {
   "cell_type": "code",
   "execution_count": 47,
   "id": "64901196",
   "metadata": {},
   "outputs": [
    {
     "name": "stdout",
     "output_type": "stream",
     "text": [
      "Number of warm days (above 22°C): 4\n"
     ]
    }
   ],
   "source": [
    "warm_days = 0\n",
    "for temp in temps:\n",
    "    if temp >= 22:\n",
    "        warm_days += 1\n",
    "\n",
    "print(f\"Number of warm days (above 22°C): {warm_days}\")"
   ]
  },
  {
   "cell_type": "code",
   "execution_count": 48,
   "id": "d64a5d49",
   "metadata": {},
   "outputs": [
    {
     "name": "stdout",
     "output_type": "stream",
     "text": [
      "fluctuations: [2, 5, 2, 2, 2, 5]\n"
     ]
    }
   ],
   "source": [
    "fluctuations = []\n",
    "\n",
    "for i in range(len(temps)-1):\n",
    "    fluctuation = abs(temps[i+1] - temps[i])\n",
    "    fluctuations.append(fluctuation)\n",
    "\n",
    "print(f\"fluctuations: {fluctuations}\")\n",
    "\n"
   ]
  },
  {
   "cell_type": "code",
   "execution_count": 49,
   "id": "4899574f",
   "metadata": {},
   "outputs": [
    {
     "name": "stdout",
     "output_type": "stream",
     "text": [
      "It will take 10 months to reach the savings goal.\n"
     ]
    }
   ],
   "source": [
    "initial_balance = 1000  # The starting balance in the account.\n",
    "monthly_deposit = 100   # The fixed amount deposited into the account each month.\n",
    "annual_interest_rate = 0.05  # The annual interest rate as a decimal (5% here).\n",
    "savings_goal = 2000     # The target balance you want to reach\n",
    "number = 0\n",
    "balance = initial_balance\n",
    "while balance < savings_goal:\n",
    "    balance += monthly_deposit\n",
    "    monthly_interest = (balance * annual_interest_rate) / 12\n",
    "    balance += monthly_interest\n",
    "    number += 1\n",
    "\n",
    "print(f\"It will take {number} months to reach the savings goal.\")\n"
   ]
  },
  {
   "cell_type": "code",
   "execution_count": 50,
   "id": "25dfa2dd",
   "metadata": {},
   "outputs": [
    {
     "name": "stdout",
     "output_type": "stream",
     "text": [
      "Account balance after 1 year: 2310.00$\n",
      "Account balance after 2 year: 3685.50$\n"
     ]
    }
   ],
   "source": [
    "initial_balance = 1000  # The starting balance in the account.\n",
    "monthly_deposit = 100   # The fixed amount deposited into the account each month.\n",
    "annual_interest_rate = 0.05  # The annual interest rate as a decimal (5% here).\n",
    "savings_goal = 4000     # The target balance you want to reach.\n",
    "\n",
    "balance = initial_balance\n",
    "month = 0\n",
    "while balance < savings_goal:\n",
    "    balance += monthly_deposit\n",
    "    month += 1\n",
    "    if month % 12 == 0 :\n",
    "        balance += (balance * annual_interest_rate)\n",
    "        print(f\"Account balance after {month // 12} year: {balance:.2f}$\")\n"
   ]
  },
  {
   "cell_type": "code",
   "execution_count": 51,
   "id": "2d285496",
   "metadata": {},
   "outputs": [
    {
     "name": "stdout",
     "output_type": "stream",
     "text": [
      "Zero found at index 2!\n"
     ]
    }
   ],
   "source": [
    "numbers = [7, 8, 0, 4, 3, 0, 5, 6, 0, 1]\n",
    "for ind, num in enumerate(numbers):\n",
    "    if num == 0:\n",
    "        print(f\"Zero found at index {ind}!\")\n",
    "        break"
   ]
  },
  {
   "cell_type": "code",
   "execution_count": 52,
   "id": "d4523658",
   "metadata": {},
   "outputs": [
    {
     "name": "stdout",
     "output_type": "stream",
     "text": [
      "7\n",
      "8\n",
      "Zero found!\n",
      "4\n",
      "3\n",
      "Zero found!\n",
      "5\n",
      "6\n",
      "Zero found!\n",
      "1\n"
     ]
    }
   ],
   "source": [
    "numbers = [7, 8, 0, 4, 3, 0, 5, 6, 0, 1]\n",
    "for num in numbers:\n",
    "    if num == 0:\n",
    "        print(\"Zero found!\")\n",
    "        continue\n",
    "    print(num)"
   ]
  },
  {
   "cell_type": "code",
   "execution_count": 53,
   "id": "d66a366d",
   "metadata": {},
   "outputs": [
    {
     "name": "stdout",
     "output_type": "stream",
     "text": [
      "zero found!\n",
      "zero found!\n",
      "zero found!\n"
     ]
    }
   ],
   "source": [
    "numbers = [7, 8, 0, 4, 3, 0, 5, 6, 0, 1]\n",
    "for num in numbers:\n",
    "    if num != 0:\n",
    "        pass\n",
    "    else: \n",
    "       print(\"zero found!\")"
   ]
  },
  {
   "cell_type": "code",
   "execution_count": 54,
   "id": "cf624eb4",
   "metadata": {},
   "outputs": [
    {
     "name": "stdout",
     "output_type": "stream",
     "text": [
      "connected\n"
     ]
    }
   ],
   "source": [
    "numbers = [0, 0, 0, 0, 0, 8, 0, 0, 0, 0]\n",
    "max_retries = 3\n",
    "retries = 0\n",
    "while retries < max_retries :\n",
    "    for num in numbers:\n",
    "        if num != 0:\n",
    "            print(\"connected\")\n",
    "            break\n",
    "    else:\n",
    "        print(\"All connection attempts failed. Retrying...\")\n",
    "        retries += 1\n",
    "        continue\n",
    "    break"
   ]
  },
  {
   "cell_type": "code",
   "execution_count": 55,
   "id": "56227c31",
   "metadata": {},
   "outputs": [
    {
     "name": "stdout",
     "output_type": "stream",
     "text": [
      "Electronic Products: [{'name': 'Laptop', 'category': 'Electronics', 'price': 999.99}, {'name': 'Smartphone', 'category': 'Electronics', 'price': 699.99}, {'name': 'Bluetooth Headphones', 'category': 'Electronics', 'price': 199.99}, {'name': 'Monitor', 'category': 'Electronics', 'price': 149.99}]\n",
      "Expensive Products: {'Laptop': 999.99, 'Smartphone': 699.99, 'Bluetooth Headphones': 199.99, 'Monitor': 149.99}\n",
      "Average Price of All Products: 218.89\n"
     ]
    }
   ],
   "source": [
    "products = [\n",
    "    {\"name\": \"Laptop\", \"category\": \"Electronics\", \"price\": 999.99},\n",
    "    {\"name\": \"Smartphone\", \"category\": \"Electronics\", \"price\": 699.99},\n",
    "    {\"name\": \"Book: The Alchemist\", \"category\": \"Books\", \"price\": 14.99},\n",
    "    {\"name\": \"Book: Harry Potter\", \"category\": \"Books\", \"price\": 29.99},\n",
    "    {\"name\": \"Bluetooth Headphones\", \"category\": \"Electronics\", \"price\": 199.99},\n",
    "    {\"name\": \"Monitor\", \"category\": \"Electronics\", \"price\": 149.99},\n",
    "    {\"name\": \"Book: Python Programming\", \"category\": \"Books\", \"price\": 49.99},\n",
    "    {\"name\": \"Desk Lamp\", \"category\": \"Furniture\", \"price\": 24.99},\n",
    "    {\"name\": \"Mousepad\", \"category\": \"Accessories\", \"price\": 5.99},\n",
    "    {\"name\": \"Stylus Pen\", \"category\": \"Accessories\", \"price\": 12.99},\n",
    "]\n",
    "electronic_names = [product for product in products if product['category'] == 'Electronics']\n",
    "expensive_products = {product['name']: product['price'] for product in products if product['price'] > 50}\n",
    "total_price = sum(product['price'] for product in products)\n",
    "\n",
    "\n",
    "print(f\"Electronic Products: {electronic_names}\")\n",
    "print(f\"Expensive Products: {expensive_products}\")\n",
    "print(f\"Average Price of All Products: {total_price / len(products):.2f}\")"
   ]
  },
  {
   "cell_type": "code",
   "execution_count": 56,
   "id": "9e67cecf",
   "metadata": {},
   "outputs": [
    {
     "name": "stdout",
     "output_type": "stream",
     "text": [
      "['banana', 'cherry', 'elderberry']\n",
      "{3, 4, 5, 6, 10}\n",
      "{'apple': 5, 'banana': 6, 'cherry': 6, 'date': 4, 'elderberry': 10, 'fig': 3, 'grape': 5}\n",
      "['Pass', 'Pass', 'Pass', 'Pass', 'Pass', 'Pass', 'Fail']\n"
     ]
    }
   ],
   "source": [
    "words = [\"apple\", \"banana\", \"cherry\", \"date\", \"elderberry\", \"fig\", \"grape\"]\n",
    "scores = [88, 92, 78, 90, 89, 76, 61]\n",
    "\n",
    "long_words = [word for word in words if len(word) > 5]\n",
    "lengthses = {len(word) for word in words}\n",
    "words_length = {word: len(word) for word in words}\n",
    "Grades = ['Pass' if score >= 75 else 'Fail' for score in scores]\n",
    "\n",
    "\n",
    "print(long_words)\n",
    "print(lengthses)\n",
    "print(words_length)\n",
    "print(Grades)\n"
   ]
  },
  {
   "cell_type": "code",
   "execution_count": 57,
   "id": "a3e93c47",
   "metadata": {},
   "outputs": [
    {
     "name": "stdout",
     "output_type": "stream",
     "text": [
      "Transposed matrix: [[1, 4, 7], [2, 5, 8], [3, 6, 9]]\n"
     ]
    }
   ],
   "source": [
    "matrix = [\n",
    "    [1, 2, 3],\n",
    "    [4, 5, 6],\n",
    "    [7, 8, 9]\n",
    "]\n",
    "\n",
    "T = [[row[i] for row in matrix] for i in range(len(matrix[0]))]\n",
    "\n",
    "print(f\"Transposed matrix: {T}\")\n"
   ]
  },
  {
   "cell_type": "code",
   "execution_count": 58,
   "id": "818a4e2a",
   "metadata": {},
   "outputs": [
    {
     "name": "stdout",
     "output_type": "stream",
     "text": [
      "Hello, World!\n"
     ]
    }
   ],
   "source": [
    "def great():\n",
    "    print(\"Hello, World!\")\n",
    "\n",
    "great()"
   ]
  },
  {
   "cell_type": "code",
   "execution_count": 59,
   "id": "ba7bccb0",
   "metadata": {},
   "outputs": [
    {
     "name": "stdout",
     "output_type": "stream",
     "text": [
      "Hello, Alice!\n"
     ]
    }
   ],
   "source": [
    "def personilize_greeting(name):\n",
    "    print(f\"Hello, {name}!\")\n",
    "\n",
    "personilize_greeting(\"Alice\")\n"
   ]
  },
  {
   "cell_type": "code",
   "execution_count": 60,
   "id": "67de15a3",
   "metadata": {},
   "outputs": [
    {
     "data": {
      "text/plain": [
       "78.53975"
      ]
     },
     "execution_count": 60,
     "metadata": {},
     "output_type": "execute_result"
    }
   ],
   "source": [
    "def circle_area(radius):\n",
    "    return 3.14159 * radius ** 2\n",
    "circle_area(5)"
   ]
  },
  {
   "cell_type": "code",
   "execution_count": 61,
   "id": "d84b538c",
   "metadata": {},
   "outputs": [
    {
     "data": {
      "text/plain": [
       "10"
      ]
     },
     "execution_count": 61,
     "metadata": {},
     "output_type": "execute_result"
    }
   ],
   "source": [
    "def add_numbers(num1, num2):\n",
    "    return num1 + num2\n",
    "add_numbers(3, 7)"
   ]
  },
  {
   "cell_type": "code",
   "execution_count": 62,
   "id": "59599339",
   "metadata": {},
   "outputs": [
    {
     "name": "stdout",
     "output_type": "stream",
     "text": [
      "1. Starter\n",
      "2. Main Course\n",
      "3. Dessert\n",
      "4. Beverage\n"
     ]
    }
   ],
   "source": [
    "def print_menu():\n",
    "    print(\"1. Starter\")\n",
    "    print(\"2. Main Course\")\n",
    "    print(\"3. Dessert\")\n",
    "    print(\"4. Beverage\")\n",
    "print_menu()"
   ]
  },
  {
   "cell_type": "code",
   "execution_count": 63,
   "id": "7b414407",
   "metadata": {},
   "outputs": [
    {
     "name": "stdout",
     "output_type": "stream",
     "text": [
      "Min and Max: (1, 9)\n"
     ]
    }
   ],
   "source": [
    "def min_max(values):\n",
    "\n",
    "    return min(values), max(values)\n",
    "min_max([3, 1, 4, 1, 5, 9, 2, 6, 5])\n",
    "print(f\"Min and Max: {min_max([3, 1, 4, 1, 5, 9, 2, 6, 5])}\")\n"
   ]
  },
  {
   "cell_type": "code",
   "execution_count": 64,
   "id": "65199d59",
   "metadata": {},
   "outputs": [
    {
     "name": "stdout",
     "output_type": "stream",
     "text": [
      "Scheduled a Feeding visit to section Reptiles at 14:00.\n",
      "Scheduled a Educational Talk visit to section Birds at 10:00.\n"
     ]
    }
   ],
   "source": [
    "def schedule_visit(section,time,actiity=\"Feeding\"):\n",
    "    print(f\"Scheduled a {actiity} visit to section {section} at {time}.\")\n",
    "schedule_visit(\"Reptiles\", \"14:00\")\n",
    "schedule_visit(\"Birds\", \"10:00\", \"Educational Talk\")\n"
   ]
  },
  {
   "cell_type": "code",
   "execution_count": 65,
   "id": "f4388742",
   "metadata": {},
   "outputs": [
    {
     "name": "stdout",
     "output_type": "stream",
     "text": [
      "Special request for section Aquatic Animals: Wheelchair Access\n"
     ]
    }
   ],
   "source": [
    "def add_special_request(section, request=\"None\"):\n",
    "    if request == \"None\":\n",
    "        print(f\"No special requests have been made for the visit to section {section}.\")\n",
    "    else:    \n",
    "        print(f\"Special request for section {section}: {request}\")\n",
    "\n",
    "add_special_request(\"Aquatic Animals\", \"Wheelchair Access\")\n",
    "\n"
   ]
  },
  {
   "cell_type": "code",
   "execution_count": 66,
   "id": "bb1da100",
   "metadata": {},
   "outputs": [
    {
     "name": "stdout",
     "output_type": "stream",
     "text": [
      "Special request for section Aquatic Animals: Wheelchair Access\n"
     ]
    }
   ],
   "source": [
    "def add_special_request(section, request=\"None\"):\n",
    "    if request == \"None\":\n",
    "        print(f\"No special requests have been made for the visit to section {section}.\")\n",
    "    else:    \n",
    "        print(f\"Special request for section {section}: {request}\")\n",
    "\n",
    "add_special_request(\"Aquatic Animals\", \"Wheelchair Access\")\n",
    "\n"
   ]
  },
  {
   "cell_type": "code",
   "execution_count": 67,
   "id": "2d0f9bbe",
   "metadata": {},
   "outputs": [
    {
     "name": "stdout",
     "output_type": "stream",
     "text": [
      "Invalid input: Please enter a numeric value.\n"
     ]
    }
   ],
   "source": [
    "def water_state (num):\n",
    "    if type(num) != (int or float):\n",
    "        print(\"Invalid input: Please enter a numeric value.\")\n",
    "        return \n",
    "    if num <= 0:\n",
    "        return \"Solid\"\n",
    "    if 0 < num < 100:\n",
    "        return \"Liquid\"\n",
    "    if num >= 100:\n",
    "        return \"Gas\"\n",
    "    \n",
    "water_state(\"sfd\")"
   ]
  },
  {
   "cell_type": "code",
   "execution_count": 69,
   "id": "c35fe9f5",
   "metadata": {},
   "outputs": [
    {
     "name": "stdout",
     "output_type": "stream",
     "text": [
      "['Math', '10:00 AM', 'Room 101', 'Bring calculator']\n",
      "['HTML', 'CSS', 'JavaScript', 'Python', 'Django']\n"
     ]
    }
   ],
   "source": [
    "def plan_session(*args):\n",
    "    print(list(args))\n",
    "\n",
    "plan_session(\"Math\", \"10:00 AM\", \"Room 101\", \"Bring calculator\")\n",
    "\n",
    "web_development_Basics = [\"HTML\", \"CSS\", \"JavaScript\", \"Python\", \"Django\"]\n",
    "plan_session(*web_development_Basics)\n"
   ]
  },
  {
   "cell_type": "code",
   "execution_count": 70,
   "id": "5cf89cad",
   "metadata": {},
   "outputs": [
    {
     "name": "stdout",
     "output_type": "stream",
     "text": [
      "{'name': 'Math', 'number_of_attendees': 30, 'room_number': 101}\n"
     ]
    }
   ],
   "source": [
    "def session_details(**kwargs):\n",
    "    print(kwargs)\n",
    "\n",
    "\n",
    "dictionary = {\n",
    "    'name' : 'Math',\n",
    "    'number_of_attendees' : 30,\n",
    "    'room_number' : 101\n",
    "}\n",
    "session_details(**dictionary)\n"
   ]
  },
  {
   "cell_type": "code",
   "execution_count": null,
   "id": "499b67cc",
   "metadata": {},
   "outputs": [],
   "source": [
    "def calculate_rectangle_area(length: int, width: int) -> int:\n",
    "    \"\"\"\n",
    "    Calculate the area of a rectangle.\n",
    "\n",
    "    Parameters\n",
    "    length (float): Length of the rectangle.\n",
    "    width (float): Width of the rectangle.\n",
    "\n",
    "    Returns\n",
    "    float : Area of the rectangle as an integer.\n",
    "    \"\"\"\n",
    "    return length * width\n",
    "\n",
    "\n",
    "#print(calculate_rectangle_area.__doc__)\n",
    "help(calculate_rectangle_area)"
   ]
  }
 ],
 "metadata": {
  "kernelspec": {
   "display_name": "base",
   "language": "python",
   "name": "python3"
  },
  "language_info": {
   "codemirror_mode": {
    "name": "ipython",
    "version": 3
   },
   "file_extension": ".py",
   "mimetype": "text/x-python",
   "name": "python",
   "nbconvert_exporter": "python",
   "pygments_lexer": "ipython3",
   "version": "3.13.5"
  }
 },
 "nbformat": 4,
 "nbformat_minor": 5
}
